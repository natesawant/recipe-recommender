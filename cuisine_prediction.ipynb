{
 "cells": [
  {
   "cell_type": "code",
   "execution_count": 117,
   "metadata": {},
   "outputs": [],
   "source": [
    "import pickle\n",
    "from pathlib import Path\n",
    "\n",
    "import kagglehub\n",
    "import pandas as pd\n",
    "from sklearn.feature_extraction.text import CountVectorizer\n",
    "from sklearn.linear_model import LogisticRegression\n",
    "from sklearn.metrics import accuracy_score, confusion_matrix\n",
    "from sklearn.model_selection import GridSearchCV, train_test_split\n",
    "from sklearn.naive_bayes import GaussianNB"
   ]
  },
  {
   "cell_type": "code",
   "execution_count": 102,
   "metadata": {},
   "outputs": [
    {
     "name": "stdout",
     "output_type": "stream",
     "text": [
      "Path to dataset files: /home/nates/.cache/kagglehub/datasets/kaggle/recipe-ingredients-dataset/versions/1\n"
     ]
    }
   ],
   "source": [
    "# Download latest version\n",
    "path = Path(kagglehub.dataset_download(\"kaggle/recipe-ingredients-dataset\"))\n",
    "\n",
    "print(\"Path to dataset files:\", path)"
   ]
  },
  {
   "cell_type": "code",
   "execution_count": 103,
   "metadata": {},
   "outputs": [],
   "source": [
    "train_df = pd.read_json(path / \"train.json\")\n",
    "test_df = pd.read_json(path / \"test.json\")"
   ]
  },
  {
   "cell_type": "code",
   "execution_count": 104,
   "metadata": {},
   "outputs": [
    {
     "data": {
      "text/plain": [
       "id              int64\n",
       "cuisine        object\n",
       "ingredients    object\n",
       "dtype: object"
      ]
     },
     "execution_count": 104,
     "metadata": {},
     "output_type": "execute_result"
    }
   ],
   "source": [
    "train_df.dtypes"
   ]
  },
  {
   "cell_type": "code",
   "execution_count": 105,
   "metadata": {},
   "outputs": [],
   "source": [
    "train_df = train_df.astype({\"cuisine\": \"category\"})"
   ]
  },
  {
   "cell_type": "code",
   "execution_count": 106,
   "metadata": {},
   "outputs": [],
   "source": [
    "train_df['ingredients'] = train_df['ingredients'].apply(lambda x:  ' '.join(x))\n",
    "test_df['ingredients'] = test_df['ingredients'].apply(lambda x:  ' '.join(x))"
   ]
  },
  {
   "cell_type": "code",
   "execution_count": 107,
   "metadata": {},
   "outputs": [],
   "source": [
    "X, y = train_df[\"ingredients\"], train_df[\"cuisine\"]\n",
    "X_test = test_df[\"ingredients\"]"
   ]
  },
  {
   "cell_type": "code",
   "execution_count": 108,
   "metadata": {},
   "outputs": [],
   "source": [
    "X_train, X_val, y_train, y_val = train_test_split(X, y, test_size=0.2, random_state=42)"
   ]
  },
  {
   "cell_type": "code",
   "execution_count": 109,
   "metadata": {},
   "outputs": [],
   "source": [
    "vectorizer = CountVectorizer()\n",
    "\n",
    "X_train_bow = vectorizer.fit_transform(X_train).toarray()\n",
    "X_val_bow = vectorizer.transform(X_val).toarray()\n",
    "X_test_bow = vectorizer.transform(X_test).toarray()"
   ]
  },
  {
   "cell_type": "code",
   "execution_count": 110,
   "metadata": {},
   "outputs": [
    {
     "name": "stdout",
     "output_type": "stream",
     "text": [
      "Fitting 5 folds for each of 1 candidates, totalling 5 fits\n"
     ]
    },
    {
     "name": "stderr",
     "output_type": "stream",
     "text": [
      "/home/nates/repos/recipe-recommender/.venv/lib/python3.12/site-packages/sklearn/linear_model/_logistic.py:469: ConvergenceWarning: lbfgs failed to converge (status=1):\n",
      "STOP: TOTAL NO. of ITERATIONS REACHED LIMIT.\n",
      "\n",
      "Increase the number of iterations (max_iter) or scale the data as shown in:\n",
      "    https://scikit-learn.org/stable/modules/preprocessing.html\n",
      "Please also refer to the documentation for alternative solver options:\n",
      "    https://scikit-learn.org/stable/modules/linear_model.html#logistic-regression\n",
      "  n_iter_i = _check_optimize_result(\n",
      "/home/nates/repos/recipe-recommender/.venv/lib/python3.12/site-packages/sklearn/linear_model/_logistic.py:469: ConvergenceWarning: lbfgs failed to converge (status=1):\n",
      "STOP: TOTAL NO. of ITERATIONS REACHED LIMIT.\n",
      "\n",
      "Increase the number of iterations (max_iter) or scale the data as shown in:\n",
      "    https://scikit-learn.org/stable/modules/preprocessing.html\n",
      "Please also refer to the documentation for alternative solver options:\n",
      "    https://scikit-learn.org/stable/modules/linear_model.html#logistic-regression\n",
      "  n_iter_i = _check_optimize_result(\n",
      "/home/nates/repos/recipe-recommender/.venv/lib/python3.12/site-packages/sklearn/linear_model/_logistic.py:469: ConvergenceWarning: lbfgs failed to converge (status=1):\n",
      "STOP: TOTAL NO. of ITERATIONS REACHED LIMIT.\n",
      "\n",
      "Increase the number of iterations (max_iter) or scale the data as shown in:\n",
      "    https://scikit-learn.org/stable/modules/preprocessing.html\n",
      "Please also refer to the documentation for alternative solver options:\n",
      "    https://scikit-learn.org/stable/modules/linear_model.html#logistic-regression\n",
      "  n_iter_i = _check_optimize_result(\n",
      "/home/nates/repos/recipe-recommender/.venv/lib/python3.12/site-packages/sklearn/linear_model/_logistic.py:469: ConvergenceWarning: lbfgs failed to converge (status=1):\n",
      "STOP: TOTAL NO. of ITERATIONS REACHED LIMIT.\n",
      "\n",
      "Increase the number of iterations (max_iter) or scale the data as shown in:\n",
      "    https://scikit-learn.org/stable/modules/preprocessing.html\n",
      "Please also refer to the documentation for alternative solver options:\n",
      "    https://scikit-learn.org/stable/modules/linear_model.html#logistic-regression\n",
      "  n_iter_i = _check_optimize_result(\n",
      "/home/nates/repos/recipe-recommender/.venv/lib/python3.12/site-packages/sklearn/linear_model/_logistic.py:469: ConvergenceWarning: lbfgs failed to converge (status=1):\n",
      "STOP: TOTAL NO. of ITERATIONS REACHED LIMIT.\n",
      "\n",
      "Increase the number of iterations (max_iter) or scale the data as shown in:\n",
      "    https://scikit-learn.org/stable/modules/preprocessing.html\n",
      "Please also refer to the documentation for alternative solver options:\n",
      "    https://scikit-learn.org/stable/modules/linear_model.html#logistic-regression\n",
      "  n_iter_i = _check_optimize_result(\n",
      "/home/nates/repos/recipe-recommender/.venv/lib/python3.12/site-packages/sklearn/linear_model/_logistic.py:469: ConvergenceWarning: lbfgs failed to converge (status=1):\n",
      "STOP: TOTAL NO. of ITERATIONS REACHED LIMIT.\n",
      "\n",
      "Increase the number of iterations (max_iter) or scale the data as shown in:\n",
      "    https://scikit-learn.org/stable/modules/preprocessing.html\n",
      "Please also refer to the documentation for alternative solver options:\n",
      "    https://scikit-learn.org/stable/modules/linear_model.html#logistic-regression\n",
      "  n_iter_i = _check_optimize_result(\n"
     ]
    },
    {
     "data": {
      "text/plain": [
       "0.7816467630421119"
      ]
     },
     "execution_count": 110,
     "metadata": {},
     "output_type": "execute_result"
    }
   ],
   "source": [
    "grid_params = {\n",
    "\n",
    "}\n",
    "\n",
    "model = GridSearchCV(LogisticRegression(), grid_params, verbose=True, refit=True)\n",
    "\n",
    "model.fit(X_train_bow,y_train)\n",
    "\n",
    "y_pred = model.predict(X_val_bow)\n",
    "\n",
    "accuracy_score(y_val, y_pred)\n"
   ]
  },
  {
   "cell_type": "code",
   "execution_count": 111,
   "metadata": {},
   "outputs": [
    {
     "data": {
      "text/plain": [
       "array([[  51,    1,    1,    0,    3,    3,    0,    1,    1,    2,    0,\n",
       "           0,    0,   11,    0,    1,    7,    0,    2,    0],\n",
       "       [   0,   71,    3,    0,    0,   15,    0,    2,   14,   15,    1,\n",
       "           2,    0,    1,    0,    6,   26,    1,    0,    0],\n",
       "       [   1,    2,  211,    2,    0,    6,    1,    2,    1,   18,    2,\n",
       "           0,    0,    6,    0,    7,   65,    4,    0,    0],\n",
       "       [   0,    2,    2,  427,    7,    3,    0,    3,    0,    4,    0,\n",
       "          19,   14,    5,    0,    0,    4,    1,    7,   12],\n",
       "       [   3,    1,    1,   20,   77,    4,    0,    0,    1,    6,    0,\n",
       "           5,    2,    4,    0,    0,    6,    2,    2,    2],\n",
       "       [   1,   11,    6,    2,    0,  354,    6,    2,   12,   90,    1,\n",
       "           0,    0,   10,    0,   10,   40,    5,    0,    0],\n",
       "       [   0,    1,    0,    0,    0,   11,  177,    2,    0,   44,    0,\n",
       "           0,    1,    2,    3,    1,    2,    5,    0,    0],\n",
       "       [   0,    1,    1,    2,    3,    5,    8,  527,    0,    6,    1,\n",
       "           3,    3,   13,   11,    1,    7,    2,    8,    0],\n",
       "       [   0,    7,    1,    0,    0,   17,    2,    1,   74,    9,    2,\n",
       "           0,    0,    3,    0,    0,   34,    1,    0,    0],\n",
       "       [   1,    6,    7,    0,    2,   68,   29,    4,    0, 1391,    1,\n",
       "           3,    0,   10,    3,    4,   25,   13,    0,    0],\n",
       "       [   1,    0,    0,    1,    1,    1,    0,    3,    2,    2,   62,\n",
       "           2,    0,    8,    0,    1,    6,    0,    1,    0],\n",
       "       [   0,    0,    1,   25,    2,    2,    0,   20,    0,    2,    0,\n",
       "         215,    8,    1,    0,    1,    1,    1,    2,    3],\n",
       "       [   0,    0,    0,   22,    0,    1,    0,    0,    0,    3,    0,\n",
       "           6,  127,    2,    0,    0,    4,    0,    0,    1],\n",
       "       [   2,    0,    2,    2,    4,    8,    1,    9,    0,   21,    1,\n",
       "           3,    1, 1238,    1,    2,   31,    9,    1,    0],\n",
       "       [   0,    0,    1,    1,    0,    5,    5,    7,    0,   10,    0,\n",
       "           0,    0,    4,  123,    0,    4,    6,    0,    0],\n",
       "       [   1,    4,    0,    0,    0,   16,    3,    3,    3,    4,    0,\n",
       "           1,    0,    2,    2,   39,    9,    1,    0,    1],\n",
       "       [   0,    9,   35,    3,    4,   34,    5,    3,    9,   51,    1,\n",
       "           3,    1,   29,    2,    6,  650,    2,    1,    0],\n",
       "       [   3,    0,    2,    0,    1,   20,    1,    0,    1,   32,    0,\n",
       "           0,    0,   15,    3,    3,   10,   90,    0,    1],\n",
       "       [   2,    0,    0,   18,    7,    1,    0,   14,    0,    1,    0,\n",
       "           5,    1,    3,    0,    0,    4,    0,  233,   26],\n",
       "       [   2,    2,    0,   16,    2,    1,    0,    1,    0,    2,    0,\n",
       "           5,    1,    1,    0,    0,    1,    1,   28,   81]])"
      ]
     },
     "execution_count": 111,
     "metadata": {},
     "output_type": "execute_result"
    }
   ],
   "source": [
    "confusion_matrix(y_val, y_pred)"
   ]
  },
  {
   "cell_type": "code",
   "execution_count": 112,
   "metadata": {},
   "outputs": [],
   "source": [
    "y_pred = model.predict(X_test_bow)"
   ]
  },
  {
   "cell_type": "code",
   "execution_count": 113,
   "metadata": {},
   "outputs": [],
   "source": [
    "test_df[\"cuisine\"] = y_pred"
   ]
  },
  {
   "cell_type": "code",
   "execution_count": 114,
   "metadata": {},
   "outputs": [
    {
     "data": {
      "text/html": [
       "<div>\n",
       "<style scoped>\n",
       "    .dataframe tbody tr th:only-of-type {\n",
       "        vertical-align: middle;\n",
       "    }\n",
       "\n",
       "    .dataframe tbody tr th {\n",
       "        vertical-align: top;\n",
       "    }\n",
       "\n",
       "    .dataframe thead th {\n",
       "        text-align: right;\n",
       "    }\n",
       "</style>\n",
       "<table border=\"1\" class=\"dataframe\">\n",
       "  <thead>\n",
       "    <tr style=\"text-align: right;\">\n",
       "      <th></th>\n",
       "      <th>id</th>\n",
       "      <th>ingredients</th>\n",
       "      <th>cuisine</th>\n",
       "    </tr>\n",
       "  </thead>\n",
       "  <tbody>\n",
       "    <tr>\n",
       "      <th>0</th>\n",
       "      <td>18009</td>\n",
       "      <td>baking powder eggs all-purpose flour raisins m...</td>\n",
       "      <td>british</td>\n",
       "    </tr>\n",
       "    <tr>\n",
       "      <th>1</th>\n",
       "      <td>28583</td>\n",
       "      <td>sugar egg yolks corn starch cream of tartar ba...</td>\n",
       "      <td>southern_us</td>\n",
       "    </tr>\n",
       "    <tr>\n",
       "      <th>2</th>\n",
       "      <td>41580</td>\n",
       "      <td>sausage links fennel bulb fronds olive oil cub...</td>\n",
       "      <td>italian</td>\n",
       "    </tr>\n",
       "    <tr>\n",
       "      <th>3</th>\n",
       "      <td>29752</td>\n",
       "      <td>meat cuts file powder smoked sausage okra shri...</td>\n",
       "      <td>cajun_creole</td>\n",
       "    </tr>\n",
       "    <tr>\n",
       "      <th>4</th>\n",
       "      <td>35687</td>\n",
       "      <td>ground black pepper salt sausage casings leeks...</td>\n",
       "      <td>italian</td>\n",
       "    </tr>\n",
       "    <tr>\n",
       "      <th>...</th>\n",
       "      <td>...</td>\n",
       "      <td>...</td>\n",
       "      <td>...</td>\n",
       "    </tr>\n",
       "    <tr>\n",
       "      <th>9939</th>\n",
       "      <td>30246</td>\n",
       "      <td>large egg yolks fresh lemon juice sugar bourbo...</td>\n",
       "      <td>french</td>\n",
       "    </tr>\n",
       "    <tr>\n",
       "      <th>9940</th>\n",
       "      <td>36028</td>\n",
       "      <td>hot sauce butter sweet potatoes adobo sauce salt</td>\n",
       "      <td>southern_us</td>\n",
       "    </tr>\n",
       "    <tr>\n",
       "      <th>9941</th>\n",
       "      <td>22339</td>\n",
       "      <td>black pepper salt parmigiano reggiano cheese r...</td>\n",
       "      <td>italian</td>\n",
       "    </tr>\n",
       "    <tr>\n",
       "      <th>9942</th>\n",
       "      <td>42525</td>\n",
       "      <td>cheddar cheese cayenne paprika plum tomatoes g...</td>\n",
       "      <td>southern_us</td>\n",
       "    </tr>\n",
       "    <tr>\n",
       "      <th>9943</th>\n",
       "      <td>1443</td>\n",
       "      <td>cold water olive oil lime wedges garlic cloves...</td>\n",
       "      <td>mexican</td>\n",
       "    </tr>\n",
       "  </tbody>\n",
       "</table>\n",
       "<p>9944 rows × 3 columns</p>\n",
       "</div>"
      ],
      "text/plain": [
       "         id                                        ingredients       cuisine\n",
       "0     18009  baking powder eggs all-purpose flour raisins m...       british\n",
       "1     28583  sugar egg yolks corn starch cream of tartar ba...   southern_us\n",
       "2     41580  sausage links fennel bulb fronds olive oil cub...       italian\n",
       "3     29752  meat cuts file powder smoked sausage okra shri...  cajun_creole\n",
       "4     35687  ground black pepper salt sausage casings leeks...       italian\n",
       "...     ...                                                ...           ...\n",
       "9939  30246  large egg yolks fresh lemon juice sugar bourbo...        french\n",
       "9940  36028   hot sauce butter sweet potatoes adobo sauce salt   southern_us\n",
       "9941  22339  black pepper salt parmigiano reggiano cheese r...       italian\n",
       "9942  42525  cheddar cheese cayenne paprika plum tomatoes g...   southern_us\n",
       "9943   1443  cold water olive oil lime wedges garlic cloves...       mexican\n",
       "\n",
       "[9944 rows x 3 columns]"
      ]
     },
     "execution_count": 114,
     "metadata": {},
     "output_type": "execute_result"
    }
   ],
   "source": [
    "test_df"
   ]
  },
  {
   "cell_type": "code",
   "execution_count": 115,
   "metadata": {},
   "outputs": [],
   "source": [
    "test_df[[\"id\", \"cuisine\"]].set_index(\"id\").to_csv(\"submission.csv\")"
   ]
  },
  {
   "cell_type": "code",
   "execution_count": 119,
   "metadata": {},
   "outputs": [],
   "source": [
    "# save\n",
    "with open('models/cuisine_model.pkl','wb') as f:\n",
    "    pickle.dump(model,f)\n",
    "\n",
    "# load\n",
    "with open('models/cuisine_model.pkl', 'rb') as f:\n",
    "    model = pickle.load(f)"
   ]
  }
 ],
 "metadata": {
  "kernelspec": {
   "display_name": ".venv",
   "language": "python",
   "name": "python3"
  },
  "language_info": {
   "codemirror_mode": {
    "name": "ipython",
    "version": 3
   },
   "file_extension": ".py",
   "mimetype": "text/x-python",
   "name": "python",
   "nbconvert_exporter": "python",
   "pygments_lexer": "ipython3",
   "version": "3.12.3"
  }
 },
 "nbformat": 4,
 "nbformat_minor": 2
}
