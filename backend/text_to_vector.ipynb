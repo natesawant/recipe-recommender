{
 "cells": [
  {
   "cell_type": "code",
   "execution_count": 82,
   "metadata": {},
   "outputs": [],
   "source": [
    "from pathlib import Path\n",
    "\n",
    "import pandas as pd\n",
    "from nltk.corpus import stopwords\n",
    "from sklearn.feature_extraction.text import CountVectorizer"
   ]
  },
  {
   "cell_type": "code",
   "execution_count": 83,
   "metadata": {},
   "outputs": [],
   "source": [
    "dish_prompts = [\n",
    "    \"I'm looking for a dairy-free breakfast dish with a hint of spice; something like a Mexican-style omelet but without cheese.\",\n",
    "    \"Can you suggest a gluten-free Italian lunch option, preferably with a lot of fresh vegetables and no meat?\",\n",
    "    \"I need a quick Japanese-inspired snack, but I'm allergic to shellfish—something light and vegetarian would be ideal.\",\n",
    "    \"I'm craving a hearty vegan dinner that's Mediterranean-inspired, featuring chickpeas or lentils and lots of fresh herbs.\",\n",
    "    \"Could you recommend a kid-friendly dessert that's nut-free but still has a touch of chocolate? Maybe something from French cuisine?\",\n",
    "    \"I want a light Thai lunch dish, but it has to be free of soy and seafood, with a focus on fresh and crisp ingredients.\",\n",
    "    \"I'm in the mood for a comforting American breakfast but need it to be egg-free—something like pancakes or waffles without eggs would be great.\",\n",
    "    \"Give me an Indian-inspired dinner option that's mild in spice and free of dairy. I'd love something with a good mix of veggies.\",\n",
    "    \"I need a quick snack that's Mediterranean-style and free of gluten and dairy, ideally something I can eat on the go.\",\n",
    "    \"I'm looking for a festive dessert for dinner, inspired by Mexican cuisine but without any cinnamon or nuts.\"\n",
    "]\n"
   ]
  },
  {
   "cell_type": "code",
   "execution_count": 84,
   "metadata": {},
   "outputs": [],
   "source": [
    "data_dir = Path(\"data\")\n",
    "recipes_df = pd.read_csv(data_dir / \"recipe-ingredients-dataset.csv\")"
   ]
  },
  {
   "cell_type": "code",
   "execution_count": 85,
   "metadata": {},
   "outputs": [],
   "source": [
    "df = pd.DataFrame({\"prompts\": dish_prompts})"
   ]
  },
  {
   "cell_type": "code",
   "execution_count": 86,
   "metadata": {},
   "outputs": [],
   "source": [
    "vectorizer = CountVectorizer(stop_words=stopwords.words(\"english\"))"
   ]
  },
  {
   "cell_type": "code",
   "execution_count": 87,
   "metadata": {},
   "outputs": [],
   "source": [
    "X = vectorizer.fit_transform(df[\"prompts\"])"
   ]
  },
  {
   "cell_type": "code",
   "execution_count": 88,
   "metadata": {},
   "outputs": [
    {
     "data": {
      "text/plain": [
       "<Compressed Sparse Row sparse matrix of dtype 'int64'\n",
       "\twith 126 stored elements and shape (10, 85)>"
      ]
     },
     "execution_count": 88,
     "metadata": {},
     "output_type": "execute_result"
    }
   ],
   "source": [
    "X"
   ]
  }
 ],
 "metadata": {
  "kernelspec": {
   "display_name": ".venv",
   "language": "python",
   "name": "python3"
  },
  "language_info": {
   "codemirror_mode": {
    "name": "ipython",
    "version": 3
   },
   "file_extension": ".py",
   "mimetype": "text/x-python",
   "name": "python",
   "nbconvert_exporter": "python",
   "pygments_lexer": "ipython3",
   "version": "3.12.3"
  }
 },
 "nbformat": 4,
 "nbformat_minor": 2
}
